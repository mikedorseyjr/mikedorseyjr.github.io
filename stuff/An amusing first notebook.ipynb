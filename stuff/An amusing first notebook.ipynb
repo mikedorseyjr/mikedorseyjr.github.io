{
 "cells": [
  {
   "cell_type": "markdown",
   "metadata": {},
   "source": [
    "This is my first notebook. I'm going to make it print \"Hello world!\"\n"
   ]
  },
  {
   "cell_type": "code",
   "execution_count": 1,
   "metadata": {},
   "outputs": [
    {
     "name": "stdout",
     "output_type": "stream",
     "text": [
      "Hello world\n"
     ]
    }
   ],
   "source": [
    "print(\"Hello world\")"
   ]
  },
  {
   "cell_type": "markdown",
   "metadata": {},
   "source": [
    "# Holy smokes interactive computing is fun!\n",
    "\n",
    "I can now even do a bunch of extra python interactively like define a node:\n"
   ]
  },
  {
   "cell_type": "code",
   "execution_count": 2,
   "metadata": {},
   "outputs": [],
   "source": [
    "class Node(object):\n",
    "\n",
    "    def __init__(self, data=None, next_node=None):\n",
    "        self.data = data\n",
    "        self.next_node = next_node\n",
    "\n",
    "    def get_data(self):\n",
    "        return self.data\n",
    "\n",
    "    def get_next(self):\n",
    "        return self.next_node\n",
    "\n",
    "    def set_next(self, new_next):\n",
    "        self.next_node = new_next"
   ]
  },
  {
   "cell_type": "markdown",
   "metadata": {},
   "source": [
    "And follow that up with a bunch of linked list operations like so:"
   ]
  },
  {
   "cell_type": "code",
   "execution_count": 3,
   "metadata": {},
   "outputs": [],
   "source": [
    "class LinkedList(object):\n",
    "\n",
    "    def __init__(self, head=None):\n",
    "        self.head = head\n",
    "\n",
    "    def insert(self, data):\n",
    "        new_node = Node(data)\n",
    "        new_node.set_next(self.head)\n",
    "        self.head = new_node\n",
    "\n",
    "    def size(self):\n",
    "        current = self.head\n",
    "        count = 0\n",
    "        while current:\n",
    "            count += 1\n",
    "            current = current.get_next()\n",
    "        return count\n",
    "\n",
    "    def search(self, data):\n",
    "        current = self.head\n",
    "        while current:\n",
    "            if current.get_data() == data:\n",
    "              return current\n",
    "            else:\n",
    "                current = current.get_next()\n",
    "        raise ValueError(\"data no in list\")\n",
    "\n",
    "    def reverse(self):\n",
    "        previous = None\n",
    "        new_front = None\n",
    "        current = self.head\n",
    "        while current != None:\n",
    "            new_front = current.get_next()\n",
    "            current.set_next(previous)\n",
    "            previous = current\n",
    "            current = new_front\n",
    "        self.head = previous\n",
    "\n",
    "    def delete(self, data):\n",
    "        previous = None\n",
    "        current = self.head\n",
    "        while current != None:\n",
    "            temp_data = current.get_data()\n",
    "            if temp_data == data:\n",
    "                if previous == None:\n",
    "                   self.head = current.get_next()\n",
    "                else:\n",
    "                    previous.set_next(current.get_next())\n",
    "                    # should free current here\n",
    "                break\n",
    "            else:\n",
    "                previous = current\n",
    "                current = current.get_next()\n",
    "        if current == None:\n",
    "            raise ValueError(\"Value to delete wasn't in list\")\n",
    "            \n",
    "    def printList(self):\n",
    "        printer = self.head\n",
    "        while printer != None:\n",
    "            print(printer.get_data())\n",
    "            printer = printer.get_next()\n"
   ]
  },
  {
   "cell_type": "markdown",
   "metadata": {},
   "source": [
    "And I supposedly have a linked list class with a node.\n",
    "\n",
    "And I'm supposed to be able to interactively test this so, let's do so with an initialization of:"
   ]
  },
  {
   "cell_type": "code",
   "execution_count": 4,
   "metadata": {},
   "outputs": [],
   "source": [
    "testList = LinkedList()\n",
    "testList.insert(\"David\")\n",
    "testList.insert(\"Jacob\")\n",
    "testList.insert(\"Cat\")\n",
    "testList.insert(\"Dog\")"
   ]
  },
  {
   "cell_type": "markdown",
   "metadata": {},
   "source": [
    "And my list should have David, Jacob, Cat, and dog in it."
   ]
  },
  {
   "cell_type": "code",
   "execution_count": 5,
   "metadata": {},
   "outputs": [
    {
     "name": "stdout",
     "output_type": "stream",
     "text": [
      "Dog\n",
      "Cat\n",
      "Jacob\n",
      "David\n"
     ]
    }
   ],
   "source": [
    "testList.printList()"
   ]
  },
  {
   "cell_type": "markdown",
   "metadata": {},
   "source": [
    "Reversing it should give me those guys, backwards. Right?\n"
   ]
  },
  {
   "cell_type": "code",
   "execution_count": 6,
   "metadata": {},
   "outputs": [
    {
     "name": "stdout",
     "output_type": "stream",
     "text": [
      "David\n",
      "Jacob\n",
      "Cat\n",
      "Dog\n"
     ]
    }
   ],
   "source": [
    "testList.reverse()\n",
    "testList.printList()"
   ]
  },
  {
   "cell_type": "markdown",
   "metadata": {},
   "source": [
    "And if I get rid of the cat I can have some peace, and quiet, right?"
   ]
  },
  {
   "cell_type": "code",
   "execution_count": 7,
   "metadata": {},
   "outputs": [
    {
     "name": "stdout",
     "output_type": "stream",
     "text": [
      "David\n",
      "Jacob\n",
      "Dog\n"
     ]
    }
   ],
   "source": [
    "testList.delete(\"Cat\")\n",
    "testList.printList()"
   ]
  },
  {
   "cell_type": "code",
   "execution_count": null,
   "metadata": {},
   "outputs": [],
   "source": []
  }
 ],
 "metadata": {
  "kernelspec": {
   "display_name": "Python 3",
   "language": "python",
   "name": "python3"
  },
  "language_info": {
   "codemirror_mode": {
    "name": "ipython",
    "version": 3
   },
   "file_extension": ".py",
   "mimetype": "text/x-python",
   "name": "python",
   "nbconvert_exporter": "python",
   "pygments_lexer": "ipython3",
   "version": "3.6.4"
  }
 },
 "nbformat": 4,
 "nbformat_minor": 2
}
